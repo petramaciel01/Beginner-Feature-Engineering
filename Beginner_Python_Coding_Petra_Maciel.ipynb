{
  "nbformat": 4,
  "nbformat_minor": 0,
  "metadata": {
    "colab": {
      "provenance": []
    },
    "kernelspec": {
      "name": "python3",
      "display_name": "Python 3"
    },
    "language_info": {
      "name": "python"
    }
  },
  "cells": [
    {
      "cell_type": "markdown",
      "source": [
        "This assignment was an introduction of simple python commands, for a feature engineering class in college. Most commands are mathematical functions while others are simple print statements."
      ],
      "metadata": {
        "id": "LyoEIL2ViGgV"
      }
    },
    {
      "cell_type": "code",
      "execution_count": 1,
      "metadata": {
        "colab": {
          "base_uri": "https://localhost:8080/"
        },
        "id": "kX5Ysk2Qg6oM",
        "outputId": "7b92aa26-6656-48dd-c951-11dadd9df59d"
      },
      "outputs": [
        {
          "output_type": "stream",
          "name": "stdout",
          "text": [
            "Hello Fresno State\n"
          ]
        }
      ],
      "source": [
        "print('Hello Fresno State')"
      ]
    },
    {
      "cell_type": "code",
      "source": [
        "print(2+8)"
      ],
      "metadata": {
        "colab": {
          "base_uri": "https://localhost:8080/"
        },
        "id": "1eXHdsm3lQS0",
        "outputId": "ae9b3674-d0fd-45ad-c313-8855b64b30f2"
      },
      "execution_count": 2,
      "outputs": [
        {
          "output_type": "stream",
          "name": "stdout",
          "text": [
            "10\n"
          ]
        }
      ]
    },
    {
      "cell_type": "code",
      "source": [
        "print(85-48)"
      ],
      "metadata": {
        "colab": {
          "base_uri": "https://localhost:8080/"
        },
        "id": "ol5D-hQelcfQ",
        "outputId": "92fec79d-fb67-4961-b046-6b90e8816c5c"
      },
      "execution_count": 3,
      "outputs": [
        {
          "output_type": "stream",
          "name": "stdout",
          "text": [
            "37\n"
          ]
        }
      ]
    },
    {
      "cell_type": "code",
      "source": [
        "print(6*2)"
      ],
      "metadata": {
        "colab": {
          "base_uri": "https://localhost:8080/"
        },
        "id": "17Me5KIZle21",
        "outputId": "2384915c-108c-4803-b134-ca2f6585b5cd"
      },
      "execution_count": 4,
      "outputs": [
        {
          "output_type": "stream",
          "name": "stdout",
          "text": [
            "12\n"
          ]
        }
      ]
    },
    {
      "cell_type": "code",
      "source": [
        "print(20/5)"
      ],
      "metadata": {
        "colab": {
          "base_uri": "https://localhost:8080/"
        },
        "id": "67HnIKgfliH2",
        "outputId": "37b4c6a4-2c46-4d06-af34-ea6532db1505"
      },
      "execution_count": 5,
      "outputs": [
        {
          "output_type": "stream",
          "name": "stdout",
          "text": [
            "4.0\n"
          ]
        }
      ]
    },
    {
      "cell_type": "code",
      "source": [
        "print(2+7+8)"
      ],
      "metadata": {
        "colab": {
          "base_uri": "https://localhost:8080/"
        },
        "id": "-8QqlH1Blj8J",
        "outputId": "45ab3439-5491-44b3-c124-d30ef4c25d57"
      },
      "execution_count": 6,
      "outputs": [
        {
          "output_type": "stream",
          "name": "stdout",
          "text": [
            "17\n"
          ]
        }
      ]
    },
    {
      "cell_type": "code",
      "source": [
        "print(8-2*4)"
      ],
      "metadata": {
        "colab": {
          "base_uri": "https://localhost:8080/"
        },
        "id": "Xon58OgElnNU",
        "outputId": "1cc0237e-5a50-4a5d-a1c5-ae15ca036fb1"
      },
      "execution_count": 7,
      "outputs": [
        {
          "output_type": "stream",
          "name": "stdout",
          "text": [
            "0\n"
          ]
        }
      ]
    },
    {
      "cell_type": "code",
      "source": [
        "print((7-2)*3)"
      ],
      "metadata": {
        "colab": {
          "base_uri": "https://localhost:8080/"
        },
        "id": "3HT8qXXzlrko",
        "outputId": "8d9d137c-b6f9-4a4c-8524-aa78631ab4e5"
      },
      "execution_count": 8,
      "outputs": [
        {
          "output_type": "stream",
          "name": "stdout",
          "text": [
            "15\n"
          ]
        }
      ]
    },
    {
      "cell_type": "code",
      "source": [
        "print(4*4*4)"
      ],
      "metadata": {
        "colab": {
          "base_uri": "https://localhost:8080/"
        },
        "id": "P0-LN2EVlu4x",
        "outputId": "cbcf34ec-3e3a-4405-b726-377b1d0cfae8"
      },
      "execution_count": 9,
      "outputs": [
        {
          "output_type": "stream",
          "name": "stdout",
          "text": [
            "64\n"
          ]
        }
      ]
    },
    {
      "cell_type": "code",
      "source": [
        "print(4**3)"
      ],
      "metadata": {
        "colab": {
          "base_uri": "https://localhost:8080/"
        },
        "id": "M4jiLri4l1kx",
        "outputId": "ec080208-e7e9-40d7-845b-54d48f183b87"
      },
      "execution_count": 10,
      "outputs": [
        {
          "output_type": "stream",
          "name": "stdout",
          "text": [
            "64\n"
          ]
        }
      ]
    },
    {
      "cell_type": "code",
      "source": [
        "print(3*4-3)"
      ],
      "metadata": {
        "colab": {
          "base_uri": "https://localhost:8080/"
        },
        "id": "BqGsRBs8l4A4",
        "outputId": "afeb10be-52c1-4d3a-c240-d80cb1c78936"
      },
      "execution_count": 11,
      "outputs": [
        {
          "output_type": "stream",
          "name": "stdout",
          "text": [
            "9\n"
          ]
        }
      ]
    },
    {
      "cell_type": "code",
      "source": [
        "print((2*4)-3)"
      ],
      "metadata": {
        "colab": {
          "base_uri": "https://localhost:8080/"
        },
        "id": "b7m1dvb3l_YA",
        "outputId": "2fdcd74e-e21a-4ab3-ce03-2d3493dd4e0d"
      },
      "execution_count": 12,
      "outputs": [
        {
          "output_type": "stream",
          "name": "stdout",
          "text": [
            "5\n"
          ]
        }
      ]
    },
    {
      "cell_type": "code",
      "source": [
        "print(15/(7-2))"
      ],
      "metadata": {
        "colab": {
          "base_uri": "https://localhost:8080/"
        },
        "id": "14iR7f0gmE0A",
        "outputId": "92850c8c-4012-478a-9eb0-e5ded9e61da0"
      },
      "execution_count": 13,
      "outputs": [
        {
          "output_type": "stream",
          "name": "stdout",
          "text": [
            "3.0\n"
          ]
        }
      ]
    },
    {
      "cell_type": "code",
      "source": [
        "print((3+2)**(4-2))"
      ],
      "metadata": {
        "colab": {
          "base_uri": "https://localhost:8080/"
        },
        "id": "e_nyUcnvmIJi",
        "outputId": "c374d34a-5c51-4a56-9013-20de0e2daeca"
      },
      "execution_count": 14,
      "outputs": [
        {
          "output_type": "stream",
          "name": "stdout",
          "text": [
            "25\n"
          ]
        }
      ]
    },
    {
      "cell_type": "code",
      "source": [
        "print('8+3')"
      ],
      "metadata": {
        "colab": {
          "base_uri": "https://localhost:8080/"
        },
        "id": "fA06eVErmW_a",
        "outputId": "c25fda02-2fba-4ef5-ed03-294dc3ecd4c9"
      },
      "execution_count": 15,
      "outputs": [
        {
          "output_type": "stream",
          "name": "stdout",
          "text": [
            "8+3\n"
          ]
        }
      ]
    },
    {
      "cell_type": "code",
      "source": [
        "print(('7+5='),(7+5))"
      ],
      "metadata": {
        "colab": {
          "base_uri": "https://localhost:8080/"
        },
        "id": "iPMs_8gomc9V",
        "outputId": "2a222659-17b7-4a4f-d684-65c5fad73308"
      },
      "execution_count": 16,
      "outputs": [
        {
          "output_type": "stream",
          "name": "stdout",
          "text": [
            "7+5= 12\n"
          ]
        }
      ]
    },
    {
      "cell_type": "code",
      "source": [
        "print((7*8*2),('is the answer to 7 * 8 * 2'))"
      ],
      "metadata": {
        "colab": {
          "base_uri": "https://localhost:8080/"
        },
        "id": "xYJ_FcL6mlfU",
        "outputId": "2f6b0c05-22f0-47c6-c0e5-ce3a7d1b061c"
      },
      "execution_count": 17,
      "outputs": [
        {
          "output_type": "stream",
          "name": "stdout",
          "text": [
            "112 is the answer to 7 * 8 * 2\n"
          ]
        }
      ]
    },
    {
      "cell_type": "code",
      "source": [
        "year=2021"
      ],
      "metadata": {
        "id": "RgtRNkJEmws_"
      },
      "execution_count": 18,
      "outputs": []
    },
    {
      "cell_type": "code",
      "source": [
        "print(year)"
      ],
      "metadata": {
        "colab": {
          "base_uri": "https://localhost:8080/"
        },
        "id": "3z9yWp-eot3y",
        "outputId": "aaeabb68-efc0-4699-cdda-f981bd6910fd"
      },
      "execution_count": 19,
      "outputs": [
        {
          "output_type": "stream",
          "name": "stdout",
          "text": [
            "2021\n"
          ]
        }
      ]
    },
    {
      "cell_type": "code",
      "source": [
        "print(year+4)"
      ],
      "metadata": {
        "colab": {
          "base_uri": "https://localhost:8080/"
        },
        "id": "Ul3PJDxVotvb",
        "outputId": "17f9a880-a1c8-4d11-98ce-b74d9168527b"
      },
      "execution_count": 20,
      "outputs": [
        {
          "output_type": "stream",
          "name": "stdout",
          "text": [
            "2025\n"
          ]
        }
      ]
    },
    {
      "cell_type": "code",
      "source": [
        "print(year-3)"
      ],
      "metadata": {
        "colab": {
          "base_uri": "https://localhost:8080/"
        },
        "id": "7jKWmN1ZotoY",
        "outputId": "f6b83dfa-2d7e-476c-df14-b7e11c74ef7b"
      },
      "execution_count": 21,
      "outputs": [
        {
          "output_type": "stream",
          "name": "stdout",
          "text": [
            "2018\n"
          ]
        }
      ]
    },
    {
      "cell_type": "code",
      "source": [
        "print((year-2)+10)"
      ],
      "metadata": {
        "colab": {
          "base_uri": "https://localhost:8080/"
        },
        "id": "zWWsFLsVotgG",
        "outputId": "cb1a2e23-54d8-45e7-c36e-404ec5143300"
      },
      "execution_count": 22,
      "outputs": [
        {
          "output_type": "stream",
          "name": "stdout",
          "text": [
            "2029\n"
          ]
        }
      ]
    },
    {
      "cell_type": "code",
      "source": [
        "print(('the current year is'),(year+4))"
      ],
      "metadata": {
        "colab": {
          "base_uri": "https://localhost:8080/"
        },
        "id": "39kTNOVFotXg",
        "outputId": "a1b691bc-a4b9-4406-9c8a-07f37b595989"
      },
      "execution_count": 23,
      "outputs": [
        {
          "output_type": "stream",
          "name": "stdout",
          "text": [
            "the current year is 2025\n"
          ]
        }
      ]
    },
    {
      "cell_type": "code",
      "source": [
        "year=2025"
      ],
      "metadata": {
        "id": "WlfEjZskotMs"
      },
      "execution_count": 24,
      "outputs": []
    },
    {
      "cell_type": "code",
      "source": [
        "name=('Fresno State')"
      ],
      "metadata": {
        "id": "g3-dkYAuos4c"
      },
      "execution_count": 25,
      "outputs": []
    },
    {
      "cell_type": "code",
      "source": [
        "name=input('Please enter your full name: ')"
      ],
      "metadata": {
        "colab": {
          "base_uri": "https://localhost:8080/"
        },
        "id": "7VNvnXjupZuP",
        "outputId": "a128fb7e-d34c-4fb1-a2fd-a9b7a3fd0940"
      },
      "execution_count": 26,
      "outputs": [
        {
          "name": "stdout",
          "output_type": "stream",
          "text": [
            "Please enter your full name: Petra Maciel\n"
          ]
        }
      ]
    },
    {
      "cell_type": "code",
      "source": [
        "a=1+4"
      ],
      "metadata": {
        "id": "A6RbzlCcpZqr"
      },
      "execution_count": 27,
      "outputs": []
    },
    {
      "cell_type": "code",
      "source": [
        "b=7-2"
      ],
      "metadata": {
        "id": "7EVXpszJpZn3"
      },
      "execution_count": 28,
      "outputs": []
    },
    {
      "cell_type": "code",
      "source": [
        "c=a+b"
      ],
      "metadata": {
        "id": "XNDTeH8hp_nL"
      },
      "execution_count": 29,
      "outputs": []
    },
    {
      "cell_type": "code",
      "source": [
        "print(c)"
      ],
      "metadata": {
        "colab": {
          "base_uri": "https://localhost:8080/"
        },
        "id": "5t5B-fVTp_jv",
        "outputId": "bf6d6fc8-219e-435c-e8ae-397c9b00b1e1"
      },
      "execution_count": 30,
      "outputs": [
        {
          "output_type": "stream",
          "name": "stdout",
          "text": [
            "10\n"
          ]
        }
      ]
    },
    {
      "cell_type": "code",
      "source": [
        "c=c+2"
      ],
      "metadata": {
        "id": "xeHJv-JCp_hG"
      },
      "execution_count": 31,
      "outputs": []
    },
    {
      "cell_type": "code",
      "source": [
        "print(c)"
      ],
      "metadata": {
        "colab": {
          "base_uri": "https://localhost:8080/"
        },
        "id": "KUoalg_4qMfL",
        "outputId": "e8f9b641-0197-43d0-835d-b0154f38ef48"
      },
      "execution_count": 32,
      "outputs": [
        {
          "output_type": "stream",
          "name": "stdout",
          "text": [
            "12\n"
          ]
        }
      ]
    },
    {
      "cell_type": "code",
      "source": [
        "a=10"
      ],
      "metadata": {
        "id": "F0dab25JqQoB"
      },
      "execution_count": 33,
      "outputs": []
    },
    {
      "cell_type": "code",
      "source": [
        "b=5"
      ],
      "metadata": {
        "id": "Qmm5VrNtqQlf"
      },
      "execution_count": 34,
      "outputs": []
    },
    {
      "cell_type": "code",
      "source": [
        "result=a+b"
      ],
      "metadata": {
        "id": "bxhWajiFqQh2"
      },
      "execution_count": 35,
      "outputs": []
    },
    {
      "cell_type": "code",
      "source": [
        "print((a),('+'),(b),('='),(result))"
      ],
      "metadata": {
        "colab": {
          "base_uri": "https://localhost:8080/"
        },
        "id": "x6OY6K9fqQfH",
        "outputId": "b2155ef2-87c0-4543-dabb-e583c53f08a8"
      },
      "execution_count": 36,
      "outputs": [
        {
          "output_type": "stream",
          "name": "stdout",
          "text": [
            "10 + 5 = 15\n"
          ]
        }
      ]
    },
    {
      "cell_type": "markdown",
      "source": [
        "The following are \"If Statements\"."
      ],
      "metadata": {
        "id": "44u428C8qfLc"
      }
    },
    {
      "cell_type": "code",
      "source": [
        "if 10==10:\n",
        "  print('equal')"
      ],
      "metadata": {
        "colab": {
          "base_uri": "https://localhost:8080/"
        },
        "id": "WcUTYAh6qQUS",
        "outputId": "2e8752a0-2738-4d58-bc59-5606166b3ad4"
      },
      "execution_count": 37,
      "outputs": [
        {
          "output_type": "stream",
          "name": "stdout",
          "text": [
            "equal\n"
          ]
        }
      ]
    },
    {
      "cell_type": "code",
      "source": [
        "if(5*2)==10:\n",
        "  print('The expression is equal')"
      ],
      "metadata": {
        "colab": {
          "base_uri": "https://localhost:8080/"
        },
        "id": "7aul0cIOrCw4",
        "outputId": "703ef555-8109-46a2-e404-befac8acae63"
      },
      "execution_count": 38,
      "outputs": [
        {
          "output_type": "stream",
          "name": "stdout",
          "text": [
            "The expression is equal\n"
          ]
        }
      ]
    },
    {
      "cell_type": "code",
      "source": [
        "if 8>5:\n",
        "  print('8 is greater than 5')"
      ],
      "metadata": {
        "colab": {
          "base_uri": "https://localhost:8080/"
        },
        "id": "-m86oOzVrO1u",
        "outputId": "763ddb0a-9be1-46b2-d922-b723e36f7f55"
      },
      "execution_count": 39,
      "outputs": [
        {
          "output_type": "stream",
          "name": "stdout",
          "text": [
            "8 is greater than 5\n"
          ]
        }
      ]
    },
    {
      "cell_type": "code",
      "source": [
        "if 8<5:\n",
        "  print('8 is less than 5')"
      ],
      "metadata": {
        "id": "kMk5pigerOzb"
      },
      "execution_count": 40,
      "outputs": []
    },
    {
      "cell_type": "code",
      "source": [
        "a=6\n",
        "b=7\n",
        "c=3\n",
        "d=('Fresno')\n",
        "e=('State')\n",
        "if a==(c*2):\n",
        "  print('3*2=6')\n",
        "if d!=e:\n",
        "  print('The words are not the same')\n",
        "  b=9\n",
        "  print('b has been set to 9')"
      ],
      "metadata": {
        "colab": {
          "base_uri": "https://localhost:8080/"
        },
        "id": "qUkPqR1frOvq",
        "outputId": "45a0cca7-c50c-4995-9e25-fbb7962c6376"
      },
      "execution_count": 41,
      "outputs": [
        {
          "output_type": "stream",
          "name": "stdout",
          "text": [
            "3*2=6\n",
            "The words are not the same\n",
            "b has been set to 9\n"
          ]
        }
      ]
    },
    {
      "cell_type": "code",
      "source": [
        "a=10\n",
        "b=5\n",
        "operation=('unknown operation')\n",
        "result=('???')\n",
        "print('Which operation should I perform + or - ?')\n",
        "operation=input()\n",
        "if operation==('+'):\n",
        "  result=a+b\n",
        "if operation==('-'):\n",
        "  result=a-b\n",
        "print((a),(operation),(b),('='),(result))"
      ],
      "metadata": {
        "colab": {
          "base_uri": "https://localhost:8080/"
        },
        "id": "q6nottyvrOkX",
        "outputId": "102636c5-c588-4a13-a15d-4f18312d5313"
      },
      "execution_count": 42,
      "outputs": [
        {
          "output_type": "stream",
          "name": "stdout",
          "text": [
            "Which operation should I perform + or - ?\n",
            "+\n",
            "10 + 5 = 15\n"
          ]
        }
      ]
    },
    {
      "cell_type": "code",
      "source": [
        "name=input('Please enter your last name: ')\n",
        "print('Please enter a number')\n",
        "a=eval(input())\n",
        "print('Please enter another number')\n",
        "b=eval(input())\n",
        "operation=('unknown operation')\n",
        "result=('???')\n",
        "print('Which operation should I perform +, -, *, /, or ** ?')\n",
        "operation=input()\n",
        "if operation==('+'):\n",
        "  result=a+b\n",
        "if operation==('-'):\n",
        "  result=a-b\n",
        "if operation==('*'):\n",
        "  result=a*b\n",
        "if operation==('/'):\n",
        "  result=a/b\n",
        "if operation==('**'):\n",
        "  result=a**b\n",
        "print((a),(operation),(b),('='),(result))"
      ],
      "metadata": {
        "colab": {
          "base_uri": "https://localhost:8080/"
        },
        "id": "AVkpLxTNrOg-",
        "outputId": "bf488fa9-b7d3-455a-ab08-85939e768a66"
      },
      "execution_count": 43,
      "outputs": [
        {
          "output_type": "stream",
          "name": "stdout",
          "text": [
            "Please enter your last name: Maciel\n",
            "Please enter a number\n",
            "2\n",
            "Please enter another number\n",
            "4\n",
            "Which operation should I perform +, -, *, /, or ** ?\n",
            "/\n",
            "2 / 4 = 0.5\n"
          ]
        }
      ]
    }
  ]
}